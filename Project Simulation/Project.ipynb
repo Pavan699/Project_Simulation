{
 "cells": [
  {
   "cell_type": "markdown",
   "id": "055dbb9c",
   "metadata": {},
   "source": [
    "Initialising the spark and using spark"
   ]
  },
  {
   "cell_type": "code",
   "execution_count": 1,
   "id": "10bde5a3",
   "metadata": {},
   "outputs": [],
   "source": [
    "import findspark\n",
    "findspark.init()"
   ]
  },
  {
   "cell_type": "code",
   "execution_count": 2,
   "id": "a373b18e",
   "metadata": {},
   "outputs": [
    {
     "name": "stderr",
     "output_type": "stream",
     "text": [
      "22/01/24 10:39:30 WARN Utils: Your hostname, pavanlinux resolves to a loopback address: 127.0.0.1; using 10.0.2.15 instead (on interface enp0s3)\n",
      "22/01/24 10:39:30 WARN Utils: Set SPARK_LOCAL_IP if you need to bind to another address\n",
      "22/01/24 10:39:31 WARN NativeCodeLoader: Unable to load native-hadoop library for your platform... using builtin-java classes where applicable\n",
      "Using Spark's default log4j profile: org/apache/spark/log4j-defaults.properties\n",
      "Setting default log level to \"WARN\".\n",
      "To adjust logging level use sc.setLogLevel(newLevel). For SparkR, use setLogLevel(newLevel).\n"
     ]
    }
   ],
   "source": [
    "from pyspark.sql import SparkSession\n",
    "spark = SparkSession.builder.getOrCreate()"
   ]
  },
  {
   "cell_type": "markdown",
   "id": "ae26ed0e",
   "metadata": {},
   "source": [
    "Getting the data from the url which contains the stock market data and writing it into the csv file"
   ]
  },
  {
   "cell_type": "code",
   "execution_count": 3,
   "id": "7151eb11",
   "metadata": {},
   "outputs": [],
   "source": [
    "import csv\n",
    "import requests\n",
    "\n",
    "CSV_URL = 'https://www.alphavantage.co/query?function=TIME_SERIES_INTRADAY_EXTENDED&symbol=IBM&interval=15min&slice=year1month1&apikey=4KRSSGN8IWNU8IBV'\n",
    "\n",
    "with requests.Session() as s:\n",
    "    download = s.get(CSV_URL)\n",
    "    decoded_content = download.content.decode('utf-8')\n",
    "    cr = csv.reader(decoded_content.splitlines(), delimiter=',')\n",
    "    my_list = list(cr)\n",
    "    csv_file= open('/home/pavan-linux/Stock_Project/data.csv', 'w')\n",
    "    csv_writer = csv.writer(csv_file, delimiter=\",\")\n",
    "    for row in my_list:\n",
    "        csv_writer.writerow(row)"
   ]
  },
  {
   "cell_type": "code",
   "execution_count": null,
   "id": "3799b97f",
   "metadata": {
    "scrolled": true
   },
   "outputs": [],
   "source": [
    "df=spark.read.csv(\"/home/pavan-linux/Stock_Project/data.csv\",header=True,inferSchema=True)"
   ]
  },
  {
   "cell_type": "markdown",
   "id": "ba52ef8e",
   "metadata": {},
   "source": [
    "Reading the csv file and spliting tha data using split function "
   ]
  },
  {
   "cell_type": "code",
   "execution_count": null,
   "id": "d1bca887",
   "metadata": {},
   "outputs": [],
   "source": [
    "def split(x):\n",
    "    temp=x.split()\n",
    "    return temp[0]\n",
    "\n",
    "from pyspark.sql.functions import udf,col\n",
    "from pyspark.sql.types import StringType\n",
    "\n",
    "new_split = udf(lambda x:split(x),StringType())"
   ]
  },
  {
   "cell_type": "code",
   "execution_count": null,
   "id": "9d019214",
   "metadata": {},
   "outputs": [],
   "source": [
    "from pyspark.sql.functions import lower, col\n",
    "df = df.withColumn(\"Date\",new_split(col(\"time\")))"
   ]
  },
  {
   "cell_type": "code",
   "execution_count": null,
   "id": "408e3e3f",
   "metadata": {},
   "outputs": [],
   "source": [
    "df.createOrReplaceTempView(\"table\")"
   ]
  },
  {
   "cell_type": "code",
   "execution_count": null,
   "id": "53936c4d",
   "metadata": {},
   "outputs": [],
   "source": [
    "df=spark.sql(\"SELECT Date,FIRST(open) as open,MAX(high) as high,MIN(low) as low,LAST(close) as close,MAX(volume) as volume from table GROUP BY Date ORDER BY Date\")"
   ]
  },
  {
   "cell_type": "code",
   "execution_count": null,
   "id": "102b09c9",
   "metadata": {},
   "outputs": [
    {
     "name": "stdout",
     "output_type": "stream",
     "text": [
      "+----------+------+--------+--------+------+-------+\n",
      "|      Date|  open|    high|     low| close| volume|\n",
      "+----------+------+--------+--------+------+-------+\n",
      "|2021-12-27|131.35|  131.65|  129.95|130.95| 418362|\n",
      "|2021-12-28|132.95|  133.22|  131.55| 131.7| 363077|\n",
      "|2021-12-29| 133.0|  134.21|   132.3|132.44| 342721|\n",
      "|2021-12-30|133.83|  134.37|  133.02|133.41| 446147|\n",
      "|2021-12-31|133.69|  134.99|  133.46|133.88| 436471|\n",
      "|2022-01-03|135.77| 136.295|  133.61| 133.8| 420316|\n",
      "|2022-01-04| 137.8|  139.95|   135.9|136.41| 581760|\n",
      "|2022-01-05|138.09|   142.2|  137.25|137.96| 999384|\n",
      "|2022-01-06|135.45|138.4099|  132.51| 137.6| 932284|\n",
      "|2022-01-07|134.83|135.6618|133.5111|135.07| 638345|\n",
      "|2022-01-10|135.03|   136.2|  133.38| 135.1| 563951|\n",
      "|2022-01-11| 132.8|  133.72|  127.97| 132.9|2168991|\n",
      "|2022-01-12| 133.4|  134.47|  131.37| 132.7| 497902|\n",
      "|2022-01-13| 134.6|  136.05| 133.377|133.66| 581846|\n",
      "|2022-01-14|134.22|  135.14|   133.3|134.54| 468711|\n",
      "|2022-01-18|132.71|   134.0|  131.78|133.37| 564555|\n",
      "|2022-01-19|131.01|   133.9|  131.01|132.65| 483940|\n",
      "|2022-01-20|130.79|  132.88|   130.2|131.45| 689553|\n",
      "|2022-01-21| 129.3|  132.11|  129.06| 130.4| 692658|\n",
      "+----------+------+--------+--------+------+-------+\n",
      "\n"
     ]
    }
   ],
   "source": [
    "df.show()"
   ]
  },
  {
   "cell_type": "code",
   "execution_count": null,
   "id": "ca4f820f",
   "metadata": {},
   "outputs": [],
   "source": [
    "from pyspark.sql.functions import lead,col\n",
    "from pyspark.sql.window import Window"
   ]
  },
  {
   "cell_type": "code",
   "execution_count": null,
   "id": "fa018a44",
   "metadata": {},
   "outputs": [],
   "source": [
    "window=Window.orderBy(\"Date\")"
   ]
  },
  {
   "cell_type": "code",
   "execution_count": null,
   "id": "dea415b8",
   "metadata": {},
   "outputs": [],
   "source": [
    "a= lead(col(\"open\")).over(window)"
   ]
  },
  {
   "cell_type": "code",
   "execution_count": null,
   "id": "c00c95b9",
   "metadata": {},
   "outputs": [],
   "source": [
    "final_df = df.withColumn(\"next_open\",a).dropna(how=\"any\")"
   ]
  },
  {
   "cell_type": "code",
   "execution_count": null,
   "id": "1e1a5515",
   "metadata": {},
   "outputs": [
    {
     "name": "stderr",
     "output_type": "stream",
     "text": [
      "22/01/24 10:28:47 WARN WindowExec: No Partition Defined for Window operation! Moving all data to a single partition, this can cause serious performance degradation.\n"
     ]
    },
    {
     "name": "stdout",
     "output_type": "stream",
     "text": [
      "+----------+------+--------+--------+------+-------+---------+\n",
      "|      Date|  open|    high|     low| close| volume|next_open|\n",
      "+----------+------+--------+--------+------+-------+---------+\n",
      "|2021-12-27|131.35|  131.65|  129.95|130.95| 418362|   132.95|\n",
      "|2021-12-28|132.95|  133.22|  131.55| 131.7| 363077|    133.0|\n",
      "|2021-12-29| 133.0|  134.21|   132.3|132.44| 342721|   133.83|\n",
      "|2021-12-30|133.83|  134.37|  133.02|133.41| 446147|   133.69|\n",
      "|2021-12-31|133.69|  134.99|  133.46|133.88| 436471|   135.77|\n",
      "|2022-01-03|135.77| 136.295|  133.61| 133.8| 420316|    137.8|\n",
      "|2022-01-04| 137.8|  139.95|   135.9|136.41| 581760|   138.09|\n",
      "|2022-01-05|138.09|   142.2|  137.25|137.96| 999384|   135.45|\n",
      "|2022-01-06|135.45|138.4099|  132.51| 137.6| 932284|   134.83|\n",
      "|2022-01-07|134.83|135.6618|133.5111|135.07| 638345|   135.03|\n",
      "|2022-01-10|135.03|   136.2|  133.38| 135.1| 563951|    132.8|\n",
      "|2022-01-11| 132.8|  133.72|  127.97| 132.9|2168991|    133.4|\n",
      "|2022-01-12| 133.4|  134.47|  131.37| 132.7| 497902|    134.6|\n",
      "|2022-01-13| 134.6|  136.05| 133.377|133.66| 581846|   134.22|\n",
      "|2022-01-14|134.22|  135.14|   133.3|134.54| 468711|   132.71|\n",
      "|2022-01-18|132.71|   134.0|  131.78|133.37| 564555|   131.01|\n",
      "|2022-01-19|131.01|   133.9|  131.01|132.65| 483940|   130.79|\n",
      "|2022-01-20|130.79|  132.88|   130.2|131.45| 689553|    129.3|\n",
      "+----------+------+--------+--------+------+-------+---------+\n",
      "\n"
     ]
    }
   ],
   "source": [
    "final_df.show()"
   ]
  },
  {
   "cell_type": "code",
   "execution_count": null,
   "id": "a2c88325",
   "metadata": {},
   "outputs": [],
   "source": [
    "import numpy as np\n",
    "import pandas as pd                   \n",
    "import matplotlib.pyplot as plt       \n",
    "from pyspark.ml.feature import VectorAssembler\n",
    "from pyspark.ml.regression import LinearRegression"
   ]
  },
  {
   "cell_type": "markdown",
   "id": "eafc3112",
   "metadata": {},
   "source": [
    "Getting all the data in features"
   ]
  },
  {
   "cell_type": "code",
   "execution_count": null,
   "id": "9bce833b",
   "metadata": {},
   "outputs": [],
   "source": [
    "feature = VectorAssembler(inputCols=['open','high','low','close','volume'],outputCol='features')"
   ]
  },
  {
   "cell_type": "code",
   "execution_count": null,
   "id": "ddc36828",
   "metadata": {},
   "outputs": [],
   "source": [
    "final_data  = feature.transform(final_df)"
   ]
  },
  {
   "cell_type": "code",
   "execution_count": null,
   "id": "78660bb6",
   "metadata": {
    "scrolled": true
   },
   "outputs": [
    {
     "name": "stderr",
     "output_type": "stream",
     "text": [
      "22/01/24 10:28:48 WARN WindowExec: No Partition Defined for Window operation! Moving all data to a single partition, this can cause serious performance degradation.\n"
     ]
    },
    {
     "name": "stdout",
     "output_type": "stream",
     "text": [
      "+----------+------+--------+--------+------+-------+---------+--------------------+\n",
      "|      Date|  open|    high|     low| close| volume|next_open|            features|\n",
      "+----------+------+--------+--------+------+-------+---------+--------------------+\n",
      "|2021-12-27|131.35|  131.65|  129.95|130.95| 418362|   132.95|[131.35,131.65,12...|\n",
      "|2021-12-28|132.95|  133.22|  131.55| 131.7| 363077|    133.0|[132.95,133.22,13...|\n",
      "|2021-12-29| 133.0|  134.21|   132.3|132.44| 342721|   133.83|[133.0,134.21,132...|\n",
      "|2021-12-30|133.83|  134.37|  133.02|133.41| 446147|   133.69|[133.83,134.37,13...|\n",
      "|2021-12-31|133.69|  134.99|  133.46|133.88| 436471|   135.77|[133.69,134.99,13...|\n",
      "|2022-01-03|135.77| 136.295|  133.61| 133.8| 420316|    137.8|[135.77,136.295,1...|\n",
      "|2022-01-04| 137.8|  139.95|   135.9|136.41| 581760|   138.09|[137.8,139.95,135...|\n",
      "|2022-01-05|138.09|   142.2|  137.25|137.96| 999384|   135.45|[138.09,142.2,137...|\n",
      "|2022-01-06|135.45|138.4099|  132.51| 137.6| 932284|   134.83|[135.45,138.4099,...|\n",
      "|2022-01-07|134.83|135.6618|133.5111|135.07| 638345|   135.03|[134.83,135.6618,...|\n",
      "|2022-01-10|135.03|   136.2|  133.38| 135.1| 563951|    132.8|[135.03,136.2,133...|\n",
      "|2022-01-11| 132.8|  133.72|  127.97| 132.9|2168991|    133.4|[132.8,133.72,127...|\n",
      "|2022-01-12| 133.4|  134.47|  131.37| 132.7| 497902|    134.6|[133.4,134.47,131...|\n",
      "|2022-01-13| 134.6|  136.05| 133.377|133.66| 581846|   134.22|[134.6,136.05,133...|\n",
      "|2022-01-14|134.22|  135.14|   133.3|134.54| 468711|   132.71|[134.22,135.14,13...|\n",
      "|2022-01-18|132.71|   134.0|  131.78|133.37| 564555|   131.01|[132.71,134.0,131...|\n",
      "|2022-01-19|131.01|   133.9|  131.01|132.65| 483940|   130.79|[131.01,133.9,131...|\n",
      "|2022-01-20|130.79|  132.88|   130.2|131.45| 689553|    129.3|[130.79,132.88,13...|\n",
      "+----------+------+--------+--------+------+-------+---------+--------------------+\n",
      "\n"
     ]
    },
    {
     "name": "stderr",
     "output_type": "stream",
     "text": []
    }
   ],
   "source": [
    "final_data.show()"
   ]
  },
  {
   "cell_type": "markdown",
   "id": "1617ac8c",
   "metadata": {},
   "source": [
    "Taking featuers and next_open for the prediction"
   ]
  },
  {
   "cell_type": "code",
   "execution_count": null,
   "id": "b0bd0d86",
   "metadata": {},
   "outputs": [
    {
     "name": "stderr",
     "output_type": "stream",
     "text": [
      "22/01/24 10:28:50 WARN WindowExec: No Partition Defined for Window operation! Moving all data to a single partition, this can cause serious performance degradation.\n"
     ]
    },
    {
     "name": "stdout",
     "output_type": "stream",
     "text": [
      "+--------------------+---------+\n",
      "|            features|next_open|\n",
      "+--------------------+---------+\n",
      "|[131.35,131.65,12...|   132.95|\n",
      "|[132.95,133.22,13...|    133.0|\n",
      "|[133.0,134.21,132...|   133.83|\n",
      "|[133.83,134.37,13...|   133.69|\n",
      "|[133.69,134.99,13...|   135.77|\n",
      "|[135.77,136.295,1...|    137.8|\n",
      "|[137.8,139.95,135...|   138.09|\n",
      "|[138.09,142.2,137...|   135.45|\n",
      "|[135.45,138.4099,...|   134.83|\n",
      "|[134.83,135.6618,...|   135.03|\n",
      "|[135.03,136.2,133...|    132.8|\n",
      "|[132.8,133.72,127...|    133.4|\n",
      "|[133.4,134.47,131...|    134.6|\n",
      "|[134.6,136.05,133...|   134.22|\n",
      "|[134.22,135.14,13...|   132.71|\n",
      "|[132.71,134.0,131...|   131.01|\n",
      "|[131.01,133.9,131...|   130.79|\n",
      "|[130.79,132.88,13...|    129.3|\n",
      "+--------------------+---------+\n",
      "\n"
     ]
    },
    {
     "name": "stderr",
     "output_type": "stream",
     "text": []
    }
   ],
   "source": [
    "final_data = final_data.select('features','next_open')\n",
    "final_data.show()"
   ]
  },
  {
   "cell_type": "code",
   "execution_count": null,
   "id": "d0ad7f84",
   "metadata": {},
   "outputs": [],
   "source": [
    "train,test = final_data.randomSplit([0.6,0.4])"
   ]
  },
  {
   "cell_type": "code",
   "execution_count": null,
   "id": "d04898f7",
   "metadata": {},
   "outputs": [],
   "source": [
    "regressor = LinearRegression(featuresCol = 'features', labelCol = 'next_open')\n",
    "regressor = regressor.fit(train)"
   ]
  },
  {
   "cell_type": "code",
   "execution_count": null,
   "id": "f0433981",
   "metadata": {},
   "outputs": [
    {
     "name": "stderr",
     "output_type": "stream",
     "text": [
      "22/01/24 10:28:56 WARN WindowExec: No Partition Defined for Window operation! Moving all data to a single partition, this can cause serious performance degradation.\n"
     ]
    },
    {
     "name": "stdout",
     "output_type": "stream",
     "text": [
      "+--------------------+---------+------------------+\n",
      "|            features|next_open|        prediction|\n",
      "+--------------------+---------+------------------+\n",
      "|[130.79,132.88,13...|    129.3|129.59846976941813|\n",
      "|[132.8,133.72,127...|    133.4| 136.1646398308993|\n",
      "|[133.0,134.21,132...|   133.83| 132.2698780466366|\n",
      "|[133.4,134.47,131...|    134.6|136.54267805665478|\n",
      "|[133.69,134.99,13...|   135.77| 130.9338398958632|\n",
      "|[133.83,134.37,13...|   133.69|132.02791717669948|\n",
      "|[134.22,135.14,13...|   132.71|133.55557026599348|\n",
      "|[135.03,136.2,133...|    132.8| 136.4949328815348|\n",
      "|[135.45,138.4099,...|   134.83|142.83473552467393|\n",
      "|[137.8,139.95,135...|   138.09|139.41585681874457|\n",
      "+--------------------+---------+------------------+\n",
      "\n"
     ]
    },
    {
     "name": "stderr",
     "output_type": "stream",
     "text": []
    }
   ],
   "source": [
    "predictions = regressor.transform(test)\n",
    "predictions.show()"
   ]
  },
  {
   "cell_type": "code",
   "execution_count": null,
   "id": "eca3b677",
   "metadata": {},
   "outputs": [
    {
     "data": {
      "text/plain": [
       "DenseVector([2.9421, 1.0497, -3.9748, 0.7434, -0.0])"
      ]
     },
     "execution_count": 55,
     "metadata": {},
     "output_type": "execute_result"
    }
   ],
   "source": [
    "regressor.coefficients"
   ]
  },
  {
   "cell_type": "code",
   "execution_count": null,
   "id": "0cee1536",
   "metadata": {},
   "outputs": [
    {
     "data": {
      "text/plain": [
       "29.86037250643099"
      ]
     },
     "execution_count": 56,
     "metadata": {},
     "output_type": "execute_result"
    }
   ],
   "source": [
    "regressor.intercept"
   ]
  },
  {
   "cell_type": "code",
   "execution_count": null,
   "id": "529d1c51",
   "metadata": {},
   "outputs": [
    {
     "name": "stderr",
     "output_type": "stream",
     "text": [
      "22/01/24 10:28:58 WARN WindowExec: No Partition Defined for Window operation! Moving all data to a single partition, this can cause serious performance degradation.\n"
     ]
    }
   ],
   "source": [
    "results=regressor.evaluate(test)"
   ]
  },
  {
   "cell_type": "code",
   "execution_count": null,
   "id": "ec282eb5",
   "metadata": {
    "scrolled": false
   },
   "outputs": [
    {
     "name": "stdout",
     "output_type": "stream",
     "text": [
      "Root Mean Squared Error (RMSE) on test data = 3.46832\n"
     ]
    }
   ],
   "source": [
    "print(\"Root Mean Squared Error (RMSE) on test data = %g\" % results.rootMeanSquaredError)"
   ]
  },
  {
   "cell_type": "code",
   "execution_count": null,
   "id": "3d842569",
   "metadata": {},
   "outputs": [
    {
     "name": "stderr",
     "output_type": "stream",
     "text": [
      "22/01/24 10:29:01 WARN WindowExec: No Partition Defined for Window operation! Moving all data to a single partition, this can cause serious performance degradation.\n"
     ]
    }
   ],
   "source": [
    "panda_df = predictions.toPandas()"
   ]
  },
  {
   "cell_type": "code",
   "execution_count": null,
   "id": "e1ab00de",
   "metadata": {},
   "outputs": [
    {
     "data": {
      "text/plain": [
       "<matplotlib.legend.Legend at 0x7feed015acd0>"
      ]
     },
     "execution_count": 60,
     "metadata": {},
     "output_type": "execute_result"
    },
    {
     "data": {
      "image/png": "[encoded data removed]",
      "text/plain": [
       "<Figure size 432x288 with 1 Axes>"
      ]
     },
     "metadata": {
      "needs_background": "light"
     },
     "output_type": "display_data"
    }
   ],
   "source": [
    "plt.plot(panda_df['prediction'])\n",
    "plt.plot(panda_df['next_open'])\n",
    "plt.legend(['Prediction','Next Open'])"
   ]
  }
 ],
 "metadata": {
  "kernelspec": {
   "display_name": "Python 3 (ipykernel)",
   "language": "python",
   "name": "python3"
  },
  "language_info": {
   "codemirror_mode": {
    "name": "ipython",
    "version": 3
   },
   "file_extension": ".py",
   "mimetype": "text/x-python",
   "name": "python",
   "nbconvert_exporter": "python",
   "pygments_lexer": "ipython3",
   "version": "3.8.10"
  }
 },
 "nbformat": 4,
 "nbformat_minor": 5
}
